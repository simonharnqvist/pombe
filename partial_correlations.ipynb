{
    "cells": [
        {
            "cell_type": "markdown",
            "source": [
                "# Calculate partial correlations"
            ],
            "metadata": {}
        },
        {
            "cell_type": "code",
            "execution_count": 143,
            "source": [
                "import pandas as pd\n",
                "import pingouin as pg"
            ],
            "outputs": [],
            "metadata": {}
        },
        {
            "cell_type": "markdown",
            "source": [
                "Function"
            ],
            "metadata": {}
        },
        {
            "cell_type": "code",
            "execution_count": 140,
            "source": [
                "def partial_correlations(df, y, groups_df):\n",
                "    \"\"\"Get the partial correlations between each x and a given y, adjusting for covariates.\"\"\"\n",
                "   \n",
                "    df_numeric = df.apply(pd.to_numeric).replace([np.inf, -np.inf], np.nan).dropna()\n",
                "    groups_dict = dict(list(zip(groups_df[\"var\"], groups_df[\"var_group\"])))\n",
                "    correlations = []\n",
                "    \n",
                "    for var in groups_df[\"var\"]:\n",
                "        if var in list(df):\n",
                "            var_group = groups_dict.get(var)\n",
                "            z = [n for n in groups_df[\"var\"] if groups_dict.get(n) != var_group]\n",
                "            z = [n for n in z if n in list(df)]\n",
                "            if var != y:\n",
                "                cor = pg.partial_corr(data=df, x=var, y=y, covar=z, method=\"spearman\")\n",
                "                cor[\"var\"] = var\n",
                "                cor[\"group\"] = var_group\n",
                "                correlations.append(cor)\n",
                "            \n",
                "    # Combine to single df\n",
                "    correlations_df = pd.concat(correlations)\n",
                "            \n",
                "    # Bonferroni adjust\n",
                "    correlations_df[\"p-adj\"] = correlations_df[\"p-val\"] * len(correlations)\n",
                "            \n",
                "    return correlations_df"
            ],
            "outputs": [],
            "metadata": {}
        },
        {
            "cell_type": "markdown",
            "source": [
                "Read data"
            ],
            "metadata": {}
        },
        {
            "cell_type": "code",
            "execution_count": 154,
            "source": [
                "imputed = pd.read_csv(\"../data/imputed.csv\").iloc[:,1:]\n",
                "imputed.columns = imputed.columns.str.replace(\" \", \".\")\n",
                "groups_df = pd.read_csv(\"../data/variable_groups.csv\").iloc[:,1:].dropna()"
            ],
            "outputs": [],
            "metadata": {}
        },
        {
            "cell_type": "markdown",
            "source": [
                "Run calculations"
            ],
            "metadata": {}
        },
        {
            "cell_type": "code",
            "execution_count": 169,
            "source": [
                "dN = imputed.drop(columns = [\"mean.phylop\"]).dropna()\n",
                "phyloP = imputed.drop(columns = [\"dN\"]).dropna()\n",
                "\n",
                "cors_dN = partial_correlations(dN.drop(columns = [\"Systematic_ID\"]), \"dN\", groups_df = groups_df)\n",
                "cors_phylop = partial_correlations(phyloP.drop(columns = [\"Systematic_ID\"]), \"mean.phylop\", groups_df = groups_df)"
            ],
            "outputs": [],
            "metadata": {}
        },
        {
            "cell_type": "markdown",
            "source": [
                "Combine output"
            ],
            "metadata": {}
        },
        {
            "cell_type": "code",
            "execution_count": 170,
            "source": [
                "cors_dN = cors_dN[[\"r\", \"p-adj\", \"var\", \"group\"]].rename(columns = {\"r\":\"cor_dN\", \"p-adj\":\"p_adj_dN\"})\n",
                "cors_phylop = cors_phylop[[\"r\", \"p-adj\", \"var\", \"group\"]].rename(columns = {\"r\":\"cor_phylop\", \"p-adj\":\"p_adj_phylop\"})\n",
                "\n",
                "correlations = cors_dN.merge(cors_phylop, on = \"var\")"
            ],
            "outputs": [],
            "metadata": {}
        },
        {
            "cell_type": "code",
            "execution_count": 172,
            "source": [
                "correlations.to_csv(\"../data/correlations.csv\", index = None)"
            ],
            "outputs": [],
            "metadata": {}
        }
    ],
    "metadata": {
        "orig_nbformat": 4,
        "language_info": {
            "name": "python",
            "version": "3.8.10",
            "mimetype": "text/x-python",
            "codemirror_mode": {
                "name": "ipython",
                "version": 3
            },
            "pygments_lexer": "ipython3",
            "nbconvert_exporter": "python",
            "file_extension": ".py"
        },
        "kernelspec": {
            "name": "python3",
            "display_name": "Python 3.8.10 64-bit ('base': conda)"
        },
        "interpreter": {
            "hash": "d8f190ebb89c7026ed3832947e46dec857b7d445e80e4c5c05344103b0854fe1"
        }
    },
    "nbformat": 4,
    "nbformat_minor": 2
}